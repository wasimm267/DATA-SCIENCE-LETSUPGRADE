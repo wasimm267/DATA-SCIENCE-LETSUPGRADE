{
 "cells": [
  {
   "cell_type": "raw",
   "metadata": {},
   "source": [
    "Question 1.\n",
    "Given the following jumbled word, OBANWRI guess the correct English word.\n",
    "A. RANIBOW\n",
    "B. RAINBOW\n",
    "C. BOWRANI\n",
    "D. ROBWANI"
   ]
  },
  {
   "cell_type": "code",
   "execution_count": 2,
   "metadata": {
    "scrolled": true
   },
   "outputs": [
    {
     "name": "stdout",
     "output_type": "stream",
     "text": [
      "Type The Correct Option For The Jumbled Word OBANWRI\n",
      "A. RANIBOW \n",
      "B. RAINBOW \n",
      "C. BOWRANI \n",
      "D. ROBWANI\n",
      "RAINBOW\n",
      "Correct\n"
     ]
    }
   ],
   "source": [
    "print (\"Type The Correct Option For The Jumbled Word OBANWRI\")\n",
    "print (\"A. RANIBOW \")\n",
    "print (\"B. RAINBOW \")\n",
    "print (\"C. BOWRANI \")\n",
    "print (\"D. ROBWANI\")\n",
    "optionsList = [ \"RANIBOW\", \"RAINBOW\" , \"BOWRANI\", \"ROBWANI\"]\n",
    "correctOption = \"RAINBOW\"\n",
    "option = input ()\n",
    "\n",
    "if(option == \"RAINBOW\" and option == correctOption): \n",
    "                print(\"Correct\")\n",
    "                \n",
    "else:\n",
    "     print(\"Wrong\")\n"
   ]
  },
  {
   "cell_type": "raw",
   "metadata": {},
   "source": [
    "Questions 2:\n",
    "Write a program which prints “LETS UPGRADE”. (Please note that you have to\n",
    "print in ALL CAPS as given"
   ]
  },
  {
   "cell_type": "code",
   "execution_count": 1,
   "metadata": {},
   "outputs": [
    {
     "name": "stdout",
     "output_type": "stream",
     "text": [
      "LETS UPGRADE\n"
     ]
    }
   ],
   "source": [
    "x=\"LETS UPGRADE\"\n",
    "print (x)\n"
   ]
  },
  {
   "cell_type": "raw",
   "metadata": {},
   "source": [
    "Questions 3:\n",
    "Write a program that takes cost price and selling price as input and displays whether the transaction is a\n",
    "Profit or a Loss or Neither.\n",
    "INPUT FORMAT\n",
    "The first line contains the cost price.\n",
    "The second line contains the selling price.\n",
    "OUTPUT FORMAT\n",
    "Print \"Profit\" if the transaction is a profit or \"Loss\" if it is a loss. If it is neither\n",
    "profit nor loss, print \"Neither\". (You must not have quotes in your output)"
   ]
  },
  {
   "cell_type": "code",
   "execution_count": 3,
   "metadata": {},
   "outputs": [
    {
     "name": "stdout",
     "output_type": "stream",
     "text": [
      "20\n",
      "30\n",
      "Profit\n"
     ]
    }
   ],
   "source": [
    "cp = input()\n",
    "sp= input()\n",
    "if cp<sp:\n",
    "    print (\"Profit\")\n",
    "elif cp>sp:\n",
    "    print (\"Loss\")\n",
    "else :\n",
    "    print (\"Neither\")\n",
    "    "
   ]
  },
  {
   "cell_type": "raw",
   "metadata": {},
   "source": [
    "Questions 4:\n",
    "Write a program that takes an amount in Euros as input. You need to find its equivalent in\n",
    "Rupees and display it. Assume 1 Euro equals Rs. 80.\n",
    "Please note that you are expected to stick to the given input and output\n",
    "format as in sample test cases. Please don't add any extra lines such as\n",
    "'Enter a number', etc.\n",
    "Your program should take only one number as input and display the output."
   ]
  },
  {
   "cell_type": "code",
   "execution_count": 4,
   "metadata": {},
   "outputs": [
    {
     "name": "stdout",
     "output_type": "stream",
     "text": [
      "87.44\n",
      "euro 1.0\n"
     ]
    }
   ],
   "source": [
    "ind = float (input())\n",
    "euo=ind/87.44\n",
    "print (\"euro\" , euo)"
   ]
  },
  {
   "cell_type": "code",
   "execution_count": null,
   "metadata": {},
   "outputs": [],
   "source": []
  }
 ],
 "metadata": {
  "kernelspec": {
   "display_name": "Python 3",
   "language": "python",
   "name": "python3"
  },
  "language_info": {
   "codemirror_mode": {
    "name": "ipython",
    "version": 3
   },
   "file_extension": ".py",
   "mimetype": "text/x-python",
   "name": "python",
   "nbconvert_exporter": "python",
   "pygments_lexer": "ipython3",
   "version": "3.8.3"
  }
 },
 "nbformat": 4,
 "nbformat_minor": 4
}
