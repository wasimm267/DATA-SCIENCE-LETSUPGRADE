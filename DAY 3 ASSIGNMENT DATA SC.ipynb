{
 "cells": [
  {
   "cell_type": "raw",
   "metadata": {},
   "source": [
    "Question1.\n",
    "Create a numpy array starting from 2 till 50 with a stepsize of 3"
   ]
  },
  {
   "cell_type": "code",
   "execution_count": 1,
   "metadata": {},
   "outputs": [
    {
     "name": "stdout",
     "output_type": "stream",
     "text": [
      "printing a numpy array from 2 to 50 with a stepsize of 3\n",
      "  [ 2  5  8 11 14 17 20 23 26 29 32 35 38 41 44 47]\n"
     ]
    }
   ],
   "source": [
    "import numpy as np\n",
    "arr = np.arange (2,50,3)\n",
    "print (\"printing a numpy array from 2 to 50 with a stepsize of 3\\n \" ,arr )"
   ]
  },
  {
   "cell_type": "raw",
   "metadata": {},
   "source": [
    "Questions 2:\n",
    "Accept two lists of 5 elements each from the user.\n",
    "Convert them to numpy arrays. Concatenate these arrays and print it. Also sort these arrays and print it.\n"
   ]
  },
  {
   "cell_type": "code",
   "execution_count": 31,
   "metadata": {},
   "outputs": [
    {
     "name": "stdout",
     "output_type": "stream",
     "text": [
      " Enter 5 Elements No : 20\n",
      " Enter 5 Elements No : 34\n",
      " Enter 5 Elements No : 12\n",
      " Enter 5 Elements No : 3\n",
      " Enter 5 Elements No : 4\n",
      " Enter 5 Elements No : 12\n",
      " Enter 5 Elements No : 54\n",
      " Enter 5 Elements No : 13\n",
      " Enter 5 Elements No : 2\n",
      " Enter 5 Elements No : 1\n",
      "List :  [20, 34, 12, 3, 4]\n",
      "Array : [20 34 12  3  4]\n",
      "List :  [12, 54, 13, 2, 1]\n",
      "Array : [12 54 13  2  1]\n"
     ]
    }
   ],
   "source": [
    "list = [] # blank list no 1\n",
    "for i in range (0,5):\n",
    "    num = int (input (\" Enter 5 Elements No : \"))\n",
    "    list.append(num)\n",
    "    \n",
    "list1 = [] # blank list no 2\n",
    "for i in range (0,5):\n",
    "    num1 = int (input (\" Enter 5 Elements No : \"))\n",
    "    list1.append(num1)\n",
    "    \n",
    "\n",
    "#Importing Numpy \n",
    "import numpy as np \n",
    "#Converting List To Numpy Arrays\n",
    "arr = np.array(list)\n",
    "arr1 = np.array(list1)\n",
    "#printing first list \n",
    "print (\"List : \", list)\n",
    "#priting array \n",
    "print (\"Array :\", arr)\n",
    "#printing second list \n",
    "print (\"List : \",list1)\n",
    "#printing array\n",
    "print (\"Array :\" , arr1)\n",
    "\n"
   ]
  },
  {
   "cell_type": "code",
   "execution_count": 32,
   "metadata": {},
   "outputs": [
    {
     "name": "stdout",
     "output_type": "stream",
     "text": [
      "Concatenation :  [20 34 12  3  4 12 54 13  2  1]\n"
     ]
    }
   ],
   "source": [
    "#Concatenation of arrays\n",
    "con = np.concatenate((arr,arr1))\n",
    "print(\"Concatenation : \" ,con)"
   ]
  },
  {
   "cell_type": "code",
   "execution_count": 33,
   "metadata": {},
   "outputs": [
    {
     "name": "stdout",
     "output_type": "stream",
     "text": [
      "[ 3  4 12 20 34]\n",
      "[ 1  2 12 13 54]\n"
     ]
    }
   ],
   "source": [
    "#Sorting of arrays\n",
    "print (np.sort(arr))\n",
    "print (np.sort(arr1))"
   ]
  },
  {
   "cell_type": "raw",
   "metadata": {},
   "source": [
    "Questions 3:\n",
    "Write a code snippet to find the dimensions of a ndarray and its size.\n"
   ]
  },
  {
   "cell_type": "code",
   "execution_count": 10,
   "metadata": {},
   "outputs": [
    {
     "name": "stdout",
     "output_type": "stream",
     "text": [
      "type of array : <class 'numpy.ndarray'>\n",
      "no of dimensions : 2\n",
      "size of array :  6\n"
     ]
    }
   ],
   "source": [
    "#creating a numpy array\n",
    "arr = np.array ([[1,2,3],[9,8,7]])\n",
    "print (\"type of array :\" , type (arr))\n",
    "print (\"no of dimensions :\", arr.ndim)\n",
    "print (\"size of array : \", arr.size)"
   ]
  },
  {
   "cell_type": "raw",
   "metadata": {},
   "source": [
    "Questions 4:\n",
    "How to convert a 1D array into a 2D array? Demonstrate with the help of a code snippet\n",
    "Hint: np.newaxis, np.expand_dims"
   ]
  },
  {
   "cell_type": "code",
   "execution_count": 24,
   "metadata": {},
   "outputs": [
    {
     "name": "stdout",
     "output_type": "stream",
     "text": [
      "(3,)\n",
      "type of array : 1\n",
      "Converting 1D array to 2D array \n",
      "\n",
      "(3, 1)\n",
      "type of array : 2\n"
     ]
    }
   ],
   "source": [
    "#creating a single array\n",
    "arr = np.array([1,4,6])\n",
    "print (arr.shape)\n",
    "print (\"type of array :\", arr.ndim)\n",
    "#coverting 1d array into 2d array\n",
    "print (\"Converting 1D array to 2D array \\n\")\n",
    "arr = arr [:, np.newaxis]\n",
    "print(arr.shape)\n",
    "print (\"type of array :\" ,arr.ndim)"
   ]
  },
  {
   "cell_type": "raw",
   "metadata": {},
   "source": [
    "Questions 5:\n",
    "Consider two square numpy arrays. Stack them vertically and horizontally.\n",
    "Hint: Use vstack(), hstack()\n"
   ]
  },
  {
   "cell_type": "code",
   "execution_count": 3,
   "metadata": {},
   "outputs": [
    {
     "name": "stdout",
     "output_type": "stream",
     "text": [
      "Vertical stacking:\n",
      " [[12 14]\n",
      " [34 56]\n",
      " [65 23]\n",
      " [20 31]]\n",
      "\n",
      "Horizontal stacking:\n",
      " [[12 14 65 23]\n",
      " [34 56 20 31]]\n"
     ]
    }
   ],
   "source": [
    "import numpy as np\n",
    "#Creating 2 square numpy arrays \n",
    "a =np.array ([[12, 14],[34, 56]])\n",
    "b=np.array ([[65, 23], [20,31]])\n",
    "# vertical stacking \n",
    "print(\"Vertical stacking:\\n\", np.vstack((a, b))) \n",
    "  \n",
    "# horizontal stacking \n",
    "print(\"\\nHorizontal stacking:\\n\", np.hstack((a, b))) "
   ]
  },
  {
   "cell_type": "raw",
   "metadata": {},
   "source": [
    "Questions 6:\n",
    "How to get unique items and counts of unique items?"
   ]
  },
  {
   "cell_type": "code",
   "execution_count": 21,
   "metadata": {},
   "outputs": [
    {
     "name": "stdout",
     "output_type": "stream",
     "text": [
      "\n",
      " Unique no in list : \n",
      " [1, 2, 3, 4, 5, 6, 7, 8, 9]\n",
      "\n",
      " No of unique items : 9\n"
     ]
    }
   ],
   "source": [
    "#Getting unique items from a list\n",
    "list = [1,1,2,3,4,4,5,6,7,7,8,9]\n",
    "un_list =[]\n",
    "for a in list:\n",
    "    if a not in un_list:\n",
    "         un_list.append(a)\n",
    "print (\"\\n Unique no in list : \\n\", un_list)\n",
    "\n",
    "#taking input list for count\n",
    "l1=[]\n",
    "count = 0\n",
    "for i in list:\n",
    "    if i not in l1:\n",
    "        count +=1\n",
    "        l1.append(i)\n",
    "        \n",
    "print (\"\\n No of unique items :\",count)\n"
   ]
  },
  {
   "cell_type": "code",
   "execution_count": null,
   "metadata": {},
   "outputs": [],
   "source": []
  },
  {
   "cell_type": "code",
   "execution_count": null,
   "metadata": {},
   "outputs": [],
   "source": []
  }
 ],
 "metadata": {
  "kernelspec": {
   "display_name": "Python 3",
   "language": "python",
   "name": "python3"
  },
  "language_info": {
   "codemirror_mode": {
    "name": "ipython",
    "version": 3
   },
   "file_extension": ".py",
   "mimetype": "text/x-python",
   "name": "python",
   "nbconvert_exporter": "python",
   "pygments_lexer": "ipython3",
   "version": "3.8.3"
  }
 },
 "nbformat": 4,
 "nbformat_minor": 4
}
